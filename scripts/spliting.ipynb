{
 "cells": [
  {
   "cell_type": "code",
   "execution_count": 4,
   "id": "8b634b65",
   "metadata": {},
   "outputs": [],
   "source": [
    "import pandas as pd\n",
    "import numpy as np\n",
    "from sklearn.model_selection import train_test_split \n",
    "df = pd.read_csv('../data/data.csv')\n",
    "y = df['price'] \n",
    "X = df.loc[:, df.columns != 'price']\n"
   ]
  },
  {
   "cell_type": "code",
   "execution_count": 5,
   "id": "5b9ff60e",
   "metadata": {},
   "outputs": [
    {
     "name": "stdout",
     "output_type": "stream",
     "text": [
      "training set: (2181854, 11) (2181854,)\n",
      "(44528, 11) (44528,)\n",
      "validation set: (22264, 11) (22264,)\n",
      "test set: (22264, 11) (22264,)\n",
      "         brokered_by    status  bed  bath  acre_lot     street  \\\n",
      "543247       24335.0  for_sale  3.0   2.0       NaN   122871.0   \n",
      "799955        7941.0  for_sale  NaN   NaN      0.57   118554.0   \n",
      "326508       22391.0  for_sale  NaN   NaN      1.20  1895179.0   \n",
      "1526701      58947.0      sold  2.0   3.0       NaN   810096.0   \n",
      "613360       10034.0  for_sale  4.0   3.0      0.26  1204031.0   \n",
      "\n",
      "                    city           state  zip_code  house_size prev_sold_date  \n",
      "543247        Fort Myers         Florida   33913.0      1385.0     2014-09-08  \n",
      "799955    Lake Summerset        Illinois   61019.0         NaN            NaN  \n",
      "326508     Pisgah Forest  North Carolina   28768.0         NaN            NaN  \n",
      "1526701  Chester Springs    Pennsylvania   19425.0      1380.0     2022-04-19  \n",
      "613360         Hermitage       Tennessee   37076.0      2555.0     2019-08-01  \n"
     ]
    }
   ],
   "source": [
    "random_state = 42\n",
    "\n",
    "# first split to separate out the training set\n",
    "X_train, X_other, y_train, y_other = train_test_split(X,y,train_size = 0.98,random_state = random_state)\n",
    "# X_train, y_train → 98% X_other, y_other → 2%\n",
    "print('training set:',X_train.shape, y_train.shape)\n",
    "print(X_other.shape, y_other.shape) \n",
    "\n",
    "# second split to separate out the validation and test sets \n",
    "X_val, X_test, y_val, y_test = train_test_split(X_other,y_other,\\\n",
    "                    train_size = 0.5,random_state = random_state)\n",
    "print('validation set:',X_val.shape, y_val.shape) # 1% of points are in validation\n",
    "print('test set:',X_test.shape, y_test.shape) # 1% of points are in test\n",
    "\n",
    "print(X_train.head())\n"
   ]
  },
  {
   "cell_type": "code",
   "execution_count": null,
   "id": "592a970c",
   "metadata": {},
   "outputs": [],
   "source": []
  }
 ],
 "metadata": {
  "kernelspec": {
   "display_name": "data1030",
   "language": "python",
   "name": "python3"
  },
  "language_info": {
   "codemirror_mode": {
    "name": "ipython",
    "version": 3
   },
   "file_extension": ".py",
   "mimetype": "text/x-python",
   "name": "python",
   "nbconvert_exporter": "python",
   "pygments_lexer": "ipython3",
   "version": "3.12.10"
  }
 },
 "nbformat": 4,
 "nbformat_minor": 5
}
